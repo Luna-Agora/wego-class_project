{
 "cells": [
  {
   "cell_type": "code",
   "execution_count": null,
   "id": "eb4172d7",
   "metadata": {},
   "outputs": [],
   "source": [
    "import pandas as pd\n",
    "import numpy as np\n",
    "import matplotlib.pyplot as plt\n",
    "import seaborn as sns"
   ]
  },
  {
   "cell_type": "code",
   "execution_count": null,
   "id": "20a6ebb3",
   "metadata": {},
   "outputs": [],
   "source": [
    "wego = pd.read_csv('../data/Headway Data, 8-1-2023 to 9-30-2023.csv')\n",
    "wego"
   ]
  },
  {
   "cell_type": "code",
   "execution_count": null,
   "id": "27c40245",
   "metadata": {},
   "outputs": [],
   "source": [
    "pd.set_option('display.max_columns', None) ##to see all columns"
   ]
  },
  {
   "cell_type": "code",
   "execution_count": null,
   "id": "1f10d619",
   "metadata": {},
   "outputs": [],
   "source": []
  },
  {
   "cell_type": "markdown",
   "id": "fbf2ab9f",
   "metadata": {},
   "source": [
    "In this project, you'll be analyzing the bus spacing to look for patterns and try to identify correlations to controllable or external factors. Specifically, you'll be using a dataset containing information on the headway, or amount of time between vehicle arrivals at a stop.\n",
    "\n",
    "There are two main variables you will be studying in this project, headway deviation and adherence.\n",
    "\n",
    "**Headway** is the amount of time between a bus and the prior bus at the same stop. In the dataset, the amount of headway scheduled is contained in the SCHEDULED_HDWY column and indicates the difference between the scheduled time for a particular stop and the scheduled time for the previous bus on that same stop.\n",
    "\n",
    "This dataset contains a column HDWY_DEV, which shows the amount of deviation from the scheduled headway. **Bunching** occurs when there is shorter headway than scheduled, which would appear as a negative HDWY_DEV value. **Gapping** is when there is more headway than scheduled and appears as a positive value in the HDWY_DEV column. Note that you can calculate headway deviation percentage as HDWY_DEV/SCHEDULED_HDWY. The generally accepted range of headway deviation is 50% to 150% of the scheduled headway, so if scheduled headway is 10 minutes, a headway deviation of up to 5 minutes would be acceptable (but not ideal).\n",
    "\n",
    "Another important variable is **adherence**, which compares the actual departure time to the scheduled time and is included in the ADHERENCE column. A negative adherence value means that a bus left a time point late and a positive adherence indicates that the bus left the time point early. Buses with adherence values beyond negative 6 are generally considered late and beyond positive 1 are considered early. However, there is some additional logic where the staff applies waivers to allow early departures, such as an express bus that has already picked up everyone at a park-and-ride lot and is only dropping people off at the remaining stops, and also allows for early timepoint records for all records where TRIP_EDGE = 2 (end of trip), since it is not a problem if a bus ends its trip early as long as it didn't pass other timepoints early along the way."
   ]
  },
  {
   "cell_type": "markdown",
   "id": "1f5d408c",
   "metadata": {},
   "source": [
    "4. How much of a factor does the driver have on headway and on-time performance? The driver is indicated by the OPERATOR variable."
   ]
  },
  {
   "cell_type": "markdown",
   "id": "9a6cf07b",
   "metadata": {},
   "source": [
    "6. How much impact does being late or too spaced out at the first stop have downstream?"
   ]
  },
  {
   "cell_type": "markdown",
   "id": "dd8df8a3",
   "metadata": {},
   "source": [
    "8. What is the relationship between distance or time travelled since the start of a given trip and the headway deviation? Does headway become less stable the further along the route the bus has travelled?"
   ]
  },
  {
   "cell_type": "code",
   "execution_count": null,
   "id": "135593e5",
   "metadata": {
    "scrolled": true
   },
   "outputs": [],
   "source": [
    "wego.loc[269830:269850]"
   ]
  },
  {
   "cell_type": "code",
   "execution_count": null,
   "id": "644431c8",
   "metadata": {},
   "outputs": [],
   "source": [
    "wego['ROUTE_ABBR'].unique()"
   ]
  },
  {
   "cell_type": "markdown",
   "id": "841e53aa",
   "metadata": {},
   "source": [
    "2. How does direction of travel, route, or location affect the headway and on-time performance?"
   ]
  },
  {
   "cell_type": "code",
   "execution_count": null,
   "id": "fab81e5d",
   "metadata": {},
   "outputs": [],
   "source": [
    "direction = wego.groupby(['ROUTE_DIRECTION_NAME'])[['HDWY_DEV', 'ADHERENCE']].mean()\n",
    "direction"
   ]
  },
  {
   "cell_type": "code",
   "execution_count": null,
   "id": "15125784",
   "metadata": {
    "scrolled": false
   },
   "outputs": [],
   "source": [
    "direction.plot.bar();"
   ]
  },
  {
   "cell_type": "code",
   "execution_count": null,
   "id": "f9ba6a26",
   "metadata": {},
   "outputs": [],
   "source": [
    "plt.figure(figsize = (10,4))\n",
    "\n",
    "sns.boxplot(data = wg3,\n",
    "            x = 'HDWY_DEV');"
   ]
  },
  {
   "cell_type": "code",
   "execution_count": null,
   "id": "3f167378",
   "metadata": {},
   "outputs": [],
   "source": [
    "wg3['HDWY_DEV'].hist(edgecolor = 'magenta');"
   ]
  },
  {
   "cell_type": "code",
   "execution_count": null,
   "id": "0f599bdb",
   "metadata": {},
   "outputs": [],
   "source": [
    "wg3 = wego[['ROUTE_ABBR', 'HDWY_DEV']].groupby('ROUTE_ABBR').mean('HDWY_DEV')\n",
    "wg3"
   ]
  },
  {
   "cell_type": "code",
   "execution_count": null,
   "id": "b860d1a5",
   "metadata": {
    "scrolled": false
   },
   "outputs": [],
   "source": [
    "wg3.plot(kind = 'bar',\n",
    "         figsize = (10,6))            \n",
    "\n",
    "plt.xticks(rotation = 0,                                             \n",
    "           fontsize = 12)                   \n",
    "plt.title('avg headway dev',\n",
    "         fontsize = 14,\n",
    "         fontweight = 'bold')\n",
    "plot.show();"
   ]
  },
  {
   "cell_type": "markdown",
   "id": "11b9a774",
   "metadata": {},
   "source": [
    "ROUTE_ABBR    |    ROUTE_DIRECTION_NAME\t  |    \n",
    "overload_id = 0\n"
   ]
  },
  {
   "cell_type": "code",
   "execution_count": null,
   "id": "ee9603f9",
   "metadata": {},
   "outputs": [],
   "source": [
    "wg2 = wego[['DATE', 'CALENDAR_ID', 'TRIP_ID', 'ROUTE_ABBR', 'TIME_POINT_ABBR', 'TRIP_EDGE', 'SCHEDULED_TIME', 'ROUTE_DIRECTION_NAME', 'OVERLOAD_ID','ADHERENCE' , 'SCHEDULED_HDWY', 'ACTUAL_HDWY', 'HDWY_DEV', 'ADJUSTED_ONTIME_COUNT']]"
   ]
  },
  {
   "cell_type": "code",
   "execution_count": null,
   "id": "19b99af6",
   "metadata": {},
   "outputs": [],
   "source": [
    "reg_wg2 = wg2[wg2['OVERLOAD_ID'] == 0] ## 0 signifies that the record is from a trip that was part of the original schedule for the day and was not added by the dispatcher\n",
    "fdt_wg2 = reg_wg2[reg_wg2['ROUTE_DIRECTION_NAME'] == 'FROM DOWNTOWN']\n",
    "tdt_wg2 = reg_wg2[reg_wg2['ROUTE_DIRECTION_NAME'] == 'TO DOWNTOWN']"
   ]
  },
  {
   "cell_type": "code",
   "execution_count": null,
   "id": "7b95302a",
   "metadata": {},
   "outputs": [],
   "source": [
    "tdt_wg2"
   ]
  },
  {
   "cell_type": "code",
   "execution_count": null,
   "id": "478c6c7e",
   "metadata": {},
   "outputs": [],
   "source": [
    "tdt_wg22 = tdt_wg2[tdt_wg2['ROUTE_ABBR'] == 22]\n",
    "tdt_wg22['TIME_POINT_ABBR'].unique()"
   ]
  },
  {
   "cell_type": "code",
   "execution_count": null,
   "id": "82e6ffc2",
   "metadata": {},
   "outputs": [],
   "source": []
  },
  {
   "cell_type": "code",
   "execution_count": null,
   "id": "4704de92",
   "metadata": {
    "scrolled": false
   },
   "outputs": [],
   "source": [
    "mhsp22 = tdt_wg22[tdt_wg22['TIME_POINT_ABBR'] == 'MHSP']\n",
    "mhsp22.reset_index()\n",
    "mhsp22"
   ]
  },
  {
   "cell_type": "code",
   "execution_count": null,
   "id": "ab95b363",
   "metadata": {
    "scrolled": false
   },
   "outputs": [],
   "source": [
    "fdt_wg2"
   ]
  },
  {
   "cell_type": "code",
   "execution_count": null,
   "id": "d3331a5a",
   "metadata": {},
   "outputs": [],
   "source": [
    "fdt_wg22 = fdt_wg2[fdt_wg2['ROUTE_ABBR'] == 22]\n",
    "fdt_wg22"
   ]
  },
  {
   "cell_type": "code",
   "execution_count": null,
   "id": "834b52f0",
   "metadata": {},
   "outputs": [],
   "source": [
    "mhsp221 = fdt_wg22[fdt_wg22['TIME_POINT_ABBR'] == 'MHSP']\n",
    "mhsp221.reset_index()\n",
    "mhsp221"
   ]
  },
  {
   "cell_type": "code",
   "execution_count": null,
   "id": "44504575",
   "metadata": {},
   "outputs": [],
   "source": [
    "tdt_wg2['HDWY_DEV'].dropna().describe()\n",
    "## to downtown"
   ]
  },
  {
   "cell_type": "code",
   "execution_count": null,
   "id": "b3a80cc1",
   "metadata": {},
   "outputs": [],
   "source": [
    "fdt_wg2['HDWY_DEV'].dropna().describe()\n",
    "## from downtown"
   ]
  },
  {
   "cell_type": "code",
   "execution_count": null,
   "id": "4734d595",
   "metadata": {},
   "outputs": [],
   "source": [
    "tdt_wg2['ADHERENCE'].dropna().describe()\n",
    "## to downtown"
   ]
  },
  {
   "cell_type": "code",
   "execution_count": null,
   "id": "fc9797a6",
   "metadata": {},
   "outputs": [],
   "source": [
    "fdt_wg2['ADHERENCE'].dropna().describe()\n",
    "## from downtown"
   ]
  },
  {
   "cell_type": "code",
   "execution_count": null,
   "id": "f06f4b4c",
   "metadata": {},
   "outputs": [],
   "source": [
    "tdt_wg2['HDWY_DEV'].dropna().sort_values()"
   ]
  },
  {
   "cell_type": "code",
   "execution_count": null,
   "id": "fe3d2f01",
   "metadata": {},
   "outputs": [],
   "source": [
    "fdt_wg2['HDWY_DEV'].dropna().sort_values()"
   ]
  },
  {
   "cell_type": "code",
   "execution_count": null,
   "id": "be3af34e",
   "metadata": {},
   "outputs": [],
   "source": [
    "wego.dtypes"
   ]
  },
  {
   "cell_type": "code",
   "execution_count": null,
   "id": "e280144b",
   "metadata": {},
   "outputs": [],
   "source": []
  }
 ],
 "metadata": {
  "kernelspec": {
   "display_name": "Python 3 (ipykernel)",
   "language": "python",
   "name": "python3"
  },
  "language_info": {
   "codemirror_mode": {
    "name": "ipython",
    "version": 3
   },
   "file_extension": ".py",
   "mimetype": "text/x-python",
   "name": "python",
   "nbconvert_exporter": "python",
   "pygments_lexer": "ipython3",
   "version": "3.11.5"
  }
 },
 "nbformat": 4,
 "nbformat_minor": 5
}
